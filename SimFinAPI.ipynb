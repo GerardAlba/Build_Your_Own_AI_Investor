{
  "nbformat": 4,
  "nbformat_minor": 0,
  "metadata": {
    "colab": {
      "provenance": [],
      "authorship_tag": "ABX9TyOtvUMH5pmWkCFKJhXUjUYE",
      "include_colab_link": true
    },
    "kernelspec": {
      "name": "python3",
      "display_name": "Python 3"
    },
    "language_info": {
      "name": "python"
    }
  },
  "cells": [
    {
      "cell_type": "markdown",
      "metadata": {
        "id": "view-in-github",
        "colab_type": "text"
      },
      "source": [
        "<a href=\"https://colab.research.google.com/github/GerardAlba/Build_Your_Own_AI_Investor/blob/master/SimFinAPI.ipynb\" target=\"_parent\"><img src=\"https://colab.research.google.com/assets/colab-badge.svg\" alt=\"Open In Colab\"/></a>"
      ]
    },
    {
      "cell_type": "markdown",
      "source": [
        "Les dades financeres de les companyies són les característiques o matriu *X*, i *y* representarà els preus de les accions (etiquetes/target). Obtindrem el dataset de SimFin"
      ],
      "metadata": {
        "id": "AgxpiRLE6Dhz"
      }
    },
    {
      "cell_type": "code",
      "source": [
        "from matplotlib import pyplot as plt\n",
        "import pandas as pd\n",
        "import numpy as np\n",
        "import math"
      ],
      "metadata": {
        "id": "dBc0RUhgDqlC"
      },
      "execution_count": 122,
      "outputs": []
    },
    {
      "cell_type": "code",
      "execution_count": 55,
      "metadata": {
        "colab": {
          "base_uri": "https://localhost:8080/"
        },
        "collapsed": true,
        "id": "HOsKUZWWbY8p",
        "outputId": "464c57af-6249-494d-f12e-5713c500c956"
      },
      "outputs": [
        {
          "output_type": "stream",
          "name": "stdout",
          "text": [
            "Requirement already satisfied: simfin in /usr/local/lib/python3.10/dist-packages (1.0.1)\n",
            "Requirement already satisfied: pandas in /usr/local/lib/python3.10/dist-packages (from simfin) (2.1.4)\n",
            "Requirement already satisfied: numpy in /usr/local/lib/python3.10/dist-packages (from simfin) (1.26.4)\n",
            "Requirement already satisfied: requests in /usr/local/lib/python3.10/dist-packages (from simfin) (2.31.0)\n",
            "Requirement already satisfied: python-dateutil>=2.8.2 in /usr/local/lib/python3.10/dist-packages (from pandas->simfin) (2.8.2)\n",
            "Requirement already satisfied: pytz>=2020.1 in /usr/local/lib/python3.10/dist-packages (from pandas->simfin) (2024.1)\n",
            "Requirement already satisfied: tzdata>=2022.1 in /usr/local/lib/python3.10/dist-packages (from pandas->simfin) (2024.1)\n",
            "Requirement already satisfied: charset-normalizer<4,>=2 in /usr/local/lib/python3.10/dist-packages (from requests->simfin) (3.3.2)\n",
            "Requirement already satisfied: idna<4,>=2.5 in /usr/local/lib/python3.10/dist-packages (from requests->simfin) (3.7)\n",
            "Requirement already satisfied: urllib3<3,>=1.21.1 in /usr/local/lib/python3.10/dist-packages (from requests->simfin) (2.0.7)\n",
            "Requirement already satisfied: certifi>=2017.4.17 in /usr/local/lib/python3.10/dist-packages (from requests->simfin) (2024.7.4)\n",
            "Requirement already satisfied: six>=1.5 in /usr/local/lib/python3.10/dist-packages (from python-dateutil>=2.8.2->pandas->simfin) (1.16.0)\n"
          ]
        }
      ],
      "source": [
        "pip install simfin"
      ]
    },
    {
      "cell_type": "code",
      "source": [
        "# Dataset financer: https://simfin.com/\n",
        "# Instal.lem: pip install simfin\n",
        "# import simfin package\n",
        "import simfin as sf\n",
        "\n",
        "def getXDataMerged():\n",
        "  # API-key per connectar simfin (cal usuari a simfin)\n",
        "  sf.set_api_key('29fb3e92-e893-409a-9655-ba8cf31cd33b')\n",
        "\n",
        "  # Set the local directory where data-files are stored.\n",
        "  # The directory will be created if it does not already exist.\n",
        "  sf.set_data_dir('~/simfin_data/')\n",
        "\n",
        "  # Descarreguem les dades de simfin i assignem a un DataFrame de Pandas\n",
        "  a = sf.load_income(variant='annual')\n",
        "  a = a.reset_index()\n",
        "  #a.reset_index(level=['Ticker_x'])\n",
        "  print(a.keys())\n",
        "  b = sf.load_balance(variant='annual')\n",
        "  #b.reset_index(level=['Ticker'])\n",
        "  b = b.reset_index()\n",
        "  print(b.keys())\n",
        "  c = sf.load_cashflow(variant='annual')\n",
        "  #c.reset_index(level=['Ticker'])\n",
        "  c = c.reset_index()\n",
        "  print(c.keys())\n",
        "  print('Income Statement: ', a.shape)\n",
        "  #print(a.keys)\n",
        "  print('Balance Sheet: ', b.shape)\n",
        "  #print(b.keys)\n",
        "  print('Cash Flow: ' ,c.shape)\n",
        "  #print(c.keys)\n",
        "\n",
        "  result = pd.merge(a, b, on=['Ticker', 'SimFinId','Currency','Fiscal Year','Report Date','Publish Date'])\n",
        "  result = pd.merge(result, c, on=['Ticker','SimFinId','Currency','Fiscal Year','Report Date','Publish Date'])\n",
        "\n",
        "  print('Matriu X:', result.shape)\n",
        "  return result"
      ],
      "metadata": {
        "id": "Y1vv3Obp0C73"
      },
      "execution_count": 115,
      "outputs": []
    },
    {
      "cell_type": "code",
      "source": [
        "x=getXDataMerged()"
      ],
      "metadata": {
        "colab": {
          "base_uri": "https://localhost:8080/"
        },
        "collapsed": true,
        "id": "XNYMzB8dv8kJ",
        "outputId": "3f37631e-41b0-4676-f64f-fbf5913b989d"
      },
      "execution_count": 116,
      "outputs": [
        {
          "output_type": "stream",
          "name": "stdout",
          "text": [
            "Dataset \"us-income-annual\" on disk (0 days old).\n",
            "- Loading from disk ... "
          ]
        },
        {
          "output_type": "stream",
          "name": "stderr",
          "text": [
            "/usr/local/lib/python3.10/dist-packages/simfin/load.py:154: FutureWarning: The argument 'date_parser' is deprecated and will be removed in a future version. Please use 'date_format' instead, or read your data in as 'object' dtype and then call 'to_datetime'.\n",
            "  df = pd.read_csv(path, sep=';', header=0,\n"
          ]
        },
        {
          "output_type": "stream",
          "name": "stdout",
          "text": [
            "Done!\n",
            "Index(['Ticker', 'Report Date', 'SimFinId', 'Currency', 'Fiscal Year',\n",
            "       'Fiscal Period', 'Publish Date', 'Restated Date', 'Shares (Basic)',\n",
            "       'Shares (Diluted)', 'Revenue', 'Cost of Revenue', 'Gross Profit',\n",
            "       'Operating Expenses', 'Selling, General & Administrative',\n",
            "       'Research & Development', 'Depreciation & Amortization',\n",
            "       'Operating Income (Loss)', 'Non-Operating Income (Loss)',\n",
            "       'Interest Expense, Net', 'Pretax Income (Loss), Adj.',\n",
            "       'Abnormal Gains (Losses)', 'Pretax Income (Loss)',\n",
            "       'Income Tax (Expense) Benefit, Net',\n",
            "       'Income (Loss) from Continuing Operations',\n",
            "       'Net Extraordinary Gains (Losses)', 'Net Income',\n",
            "       'Net Income (Common)'],\n",
            "      dtype='object')\n",
            "Dataset \"us-balance-annual\" on disk (0 days old).\n",
            "- Loading from disk ... "
          ]
        },
        {
          "output_type": "stream",
          "name": "stderr",
          "text": [
            "/usr/local/lib/python3.10/dist-packages/simfin/load.py:154: FutureWarning: The argument 'date_parser' is deprecated and will be removed in a future version. Please use 'date_format' instead, or read your data in as 'object' dtype and then call 'to_datetime'.\n",
            "  df = pd.read_csv(path, sep=';', header=0,\n"
          ]
        },
        {
          "output_type": "stream",
          "name": "stdout",
          "text": [
            "Done!\n",
            "Index(['Ticker', 'Report Date', 'SimFinId', 'Currency', 'Fiscal Year',\n",
            "       'Fiscal Period', 'Publish Date', 'Restated Date', 'Shares (Basic)',\n",
            "       'Shares (Diluted)', 'Cash, Cash Equivalents & Short Term Investments',\n",
            "       'Accounts & Notes Receivable', 'Inventories', 'Total Current Assets',\n",
            "       'Property, Plant & Equipment, Net',\n",
            "       'Long Term Investments & Receivables', 'Other Long Term Assets',\n",
            "       'Total Noncurrent Assets', 'Total Assets', 'Payables & Accruals',\n",
            "       'Short Term Debt', 'Total Current Liabilities', 'Long Term Debt',\n",
            "       'Total Noncurrent Liabilities', 'Total Liabilities',\n",
            "       'Share Capital & Additional Paid-In Capital', 'Treasury Stock',\n",
            "       'Retained Earnings', 'Total Equity', 'Total Liabilities & Equity'],\n",
            "      dtype='object')\n",
            "Dataset \"us-cashflow-annual\" on disk (0 days old).\n",
            "- Loading from disk ... "
          ]
        },
        {
          "output_type": "stream",
          "name": "stderr",
          "text": [
            "/usr/local/lib/python3.10/dist-packages/simfin/load.py:154: FutureWarning: The argument 'date_parser' is deprecated and will be removed in a future version. Please use 'date_format' instead, or read your data in as 'object' dtype and then call 'to_datetime'.\n",
            "  df = pd.read_csv(path, sep=';', header=0,\n"
          ]
        },
        {
          "output_type": "stream",
          "name": "stdout",
          "text": [
            "Done!\n",
            "Index(['Ticker', 'Report Date', 'SimFinId', 'Currency', 'Fiscal Year',\n",
            "       'Fiscal Period', 'Publish Date', 'Restated Date', 'Shares (Basic)',\n",
            "       'Shares (Diluted)', 'Net Income/Starting Line',\n",
            "       'Depreciation & Amortization', 'Non-Cash Items',\n",
            "       'Change in Working Capital', 'Change in Accounts Receivable',\n",
            "       'Change in Inventories', 'Change in Accounts Payable',\n",
            "       'Change in Other', 'Net Cash from Operating Activities',\n",
            "       'Change in Fixed Assets & Intangibles',\n",
            "       'Net Change in Long Term Investment',\n",
            "       'Net Cash from Acquisitions & Divestitures',\n",
            "       'Net Cash from Investing Activities', 'Dividends Paid',\n",
            "       'Cash from (Repayment of) Debt', 'Cash from (Repurchase of) Equity',\n",
            "       'Net Cash from Financing Activities', 'Net Change in Cash'],\n",
            "      dtype='object')\n",
            "Income Statement:  (17568, 28)\n",
            "Balance Sheet:  (17564, 30)\n",
            "Cash Flow:  (17570, 28)\n",
            "Matriu X: (15625, 74)\n"
          ]
        }
      ]
    },
    {
      "cell_type": "markdown",
      "source": [
        "Podem veure són les característiques x del dataset:"
      ],
      "metadata": {
        "id": "vQuJ0hz95UXd"
      }
    },
    {
      "cell_type": "code",
      "source": [
        "x.keys()"
      ],
      "metadata": {
        "colab": {
          "base_uri": "https://localhost:8080/"
        },
        "id": "8JA9llCyqQoH",
        "outputId": "3aff4bc7-eb37-490b-fc75-971764925285"
      },
      "execution_count": 113,
      "outputs": [
        {
          "output_type": "execute_result",
          "data": {
            "text/plain": [
              "Index(['Ticker', 'Report Date', 'SimFinId', 'Currency', 'Fiscal Year',\n",
              "       'Fiscal Period_x', 'Publish Date', 'Restated Date_x',\n",
              "       'Shares (Basic)_x', 'Shares (Diluted)_x', 'Revenue', 'Cost of Revenue',\n",
              "       'Gross Profit', 'Operating Expenses',\n",
              "       'Selling, General & Administrative', 'Research & Development',\n",
              "       'Depreciation & Amortization_x', 'Operating Income (Loss)',\n",
              "       'Non-Operating Income (Loss)', 'Interest Expense, Net',\n",
              "       'Pretax Income (Loss), Adj.', 'Abnormal Gains (Losses)',\n",
              "       'Pretax Income (Loss)', 'Income Tax (Expense) Benefit, Net',\n",
              "       'Income (Loss) from Continuing Operations',\n",
              "       'Net Extraordinary Gains (Losses)', 'Net Income', 'Net Income (Common)',\n",
              "       'Fiscal Period_y', 'Restated Date_y', 'Shares (Basic)_y',\n",
              "       'Shares (Diluted)_y', 'Cash, Cash Equivalents & Short Term Investments',\n",
              "       'Accounts & Notes Receivable', 'Inventories', 'Total Current Assets',\n",
              "       'Property, Plant & Equipment, Net',\n",
              "       'Long Term Investments & Receivables', 'Other Long Term Assets',\n",
              "       'Total Noncurrent Assets', 'Total Assets', 'Payables & Accruals',\n",
              "       'Short Term Debt', 'Total Current Liabilities', 'Long Term Debt',\n",
              "       'Total Noncurrent Liabilities', 'Total Liabilities',\n",
              "       'Share Capital & Additional Paid-In Capital', 'Treasury Stock',\n",
              "       'Retained Earnings', 'Total Equity', 'Total Liabilities & Equity',\n",
              "       'Fiscal Period', 'Restated Date', 'Shares (Basic)', 'Shares (Diluted)',\n",
              "       'Net Income/Starting Line', 'Depreciation & Amortization_y',\n",
              "       'Non-Cash Items', 'Change in Working Capital',\n",
              "       'Change in Accounts Receivable', 'Change in Inventories',\n",
              "       'Change in Accounts Payable', 'Change in Other',\n",
              "       'Net Cash from Operating Activities',\n",
              "       'Change in Fixed Assets & Intangibles',\n",
              "       'Net Change in Long Term Investment',\n",
              "       'Net Cash from Acquisitions & Divestitures',\n",
              "       'Net Cash from Investing Activities', 'Dividends Paid',\n",
              "       'Cash from (Repayment of) Debt', 'Cash from (Repurchase of) Equity',\n",
              "       'Net Cash from Financing Activities', 'Net Change in Cash'],\n",
              "      dtype='object')"
            ]
          },
          "metadata": {},
          "execution_count": 113
        }
      ]
    },
    {
      "cell_type": "markdown",
      "source": [
        "Obtenim a continuació els preus diaris de les accions, que ens serviran per calcular les rendibilitats anuals *y*"
      ],
      "metadata": {
        "id": "pBaTwBOAJwSb"
      }
    },
    {
      "cell_type": "code",
      "source": [
        "def getYRawData():\n",
        "    d = sf.load_shareprices(variant='daily')\n",
        "    d = d.reset_index()\n",
        "    #d.reset_index(level=['Ticker'])\n",
        "    print('Preus de les accions: ',d.shape)\n",
        "    d['Date']=pd.to_datetime(d['Date'])\n",
        "    return d"
      ],
      "metadata": {
        "id": "NEL1TVleBW5l"
      },
      "execution_count": 118,
      "outputs": []
    },
    {
      "cell_type": "code",
      "source": [
        "p=getYRawData()\n",
        "p.keys()\n",
        "#p[p['Ticker']=='AAPL']"
      ],
      "metadata": {
        "colab": {
          "base_uri": "https://localhost:8080/"
        },
        "id": "FFeCmxIUCErP",
        "outputId": "4b1c6607-10a9-406b-df5f-9656c31b7bd9"
      },
      "execution_count": 135,
      "outputs": [
        {
          "output_type": "stream",
          "name": "stdout",
          "text": [
            "Dataset \"us-shareprices-daily\" on disk (0 days old).\n",
            "- Loading from disk ... "
          ]
        },
        {
          "output_type": "stream",
          "name": "stderr",
          "text": [
            "/usr/local/lib/python3.10/dist-packages/simfin/load.py:154: FutureWarning: The argument 'date_parser' is deprecated and will be removed in a future version. Please use 'date_format' instead, or read your data in as 'object' dtype and then call 'to_datetime'.\n",
            "  df = pd.read_csv(path, sep=';', header=0,\n"
          ]
        },
        {
          "output_type": "stream",
          "name": "stdout",
          "text": [
            "Done!\n",
            "Preus de les accions:  (5365404, 11)\n"
          ]
        },
        {
          "output_type": "execute_result",
          "data": {
            "text/plain": [
              "Index(['Ticker', 'Date', 'SimFinId', 'Open', 'High', 'Low', 'Close',\n",
              "       'Adj. Close', 'Volume', 'Dividend', 'Shares Outstanding'],\n",
              "      dtype='object')"
            ]
          },
          "metadata": {},
          "execution_count": 135
        }
      ]
    },
    {
      "cell_type": "code",
      "source": [
        "# return just the y price and volume near date (as have imperfect data).\n",
        "# Want the volume data returned to remove stocks with near 0 volume later.\n",
        "# d is just the raw Y data\n",
        "# modifier just modifies the date to look between. Can be done differently.\n",
        "def getYPriceDataNearDate(ticker, date, modifier, d):\n",
        "    windowDays=5\n",
        "    test=d[\"Date\"].between(pd.to_datetime(date),pd.to_datetime(date))\n",
        "    #test=d[\"Date\"].between(pd.to_datetime(date),pd.to_datetime(date))\n",
        "    print(test)\n",
        "    rows = \\\n",
        "    d[(d[\"Date\"].between(pd.to_datetime(date) + pd.Timedelta(days=modifier),\\\n",
        "       pd.to_datetime(date) + pd.Timedelta(days=windowDays+modifier))) \\\n",
        "      & (d[\"Ticker\"]==ticker)]\n",
        "    if rows.empty:\n",
        "        return [ticker, np.float64(\"NaN\"),\\\n",
        "                np.datetime64('NaT'),\\\n",
        "                np.float64(\"NaN\")]\n",
        "    else:\n",
        "        return [ticker, rows.iloc[0][\"Open\"],\\\n",
        "                rows.iloc[0][\"Date\"],\\\n",
        "                rows.iloc[0][\"Volume\"]*rows.iloc[0][\"Open\"]]\n",
        "        #take the first item of the list of days that fall in the window of accepted days."
      ],
      "metadata": {
        "id": "K3vEIo3mwAoX"
      },
      "execution_count": 162,
      "outputs": []
    },
    {
      "cell_type": "code",
      "source": [
        "getYPriceDataNearDate(ticker='APPL',date='2018-09-06',modifier=0,d=p)"
      ],
      "metadata": {
        "colab": {
          "base_uri": "https://localhost:8080/"
        },
        "collapsed": true,
        "id": "-ZxKbgA5wKil",
        "outputId": "d93b6afb-02e3-41f4-db6b-386415b2e454"
      },
      "execution_count": 163,
      "outputs": [
        {
          "output_type": "stream",
          "name": "stdout",
          "text": [
            "0           True\n",
            "1          False\n",
            "2          False\n",
            "3          False\n",
            "4          False\n",
            "           ...  \n",
            "5365399    False\n",
            "5365400    False\n",
            "5365401    False\n",
            "5365402    False\n",
            "5365403    False\n",
            "Name: Date, Length: 5365404, dtype: bool\n"
          ]
        },
        {
          "output_type": "execute_result",
          "data": {
            "text/plain": [
              "['APPL', nan, numpy.datetime64('NaT'), nan]"
            ]
          },
          "metadata": {},
          "execution_count": 163
        }
      ]
    }
  ]
}